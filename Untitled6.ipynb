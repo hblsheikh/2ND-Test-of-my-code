{
 "cells": [
  {
   "cell_type": "code",
   "execution_count": null,
   "id": "8eea2977-024b-4014-ada4-42beb4369d8d",
   "metadata": {},
   "outputs": [],
   "source": [
    "#What is data structure and why it is important?\n",
    "\n",
    "\"\"\"Data structures are methods to store and organize data to make it accessible and modifiable. \n",
    "They are important because they enable certain fundamental operations like insertion, search, and \n",
    "sort that are key to efficient and super-efficient algorithms and application performance.\"\"\""
   ]
  },
  {
   "cell_type": "code",
   "execution_count": null,
   "id": "558004f2-8197-4d86-92fd-4906690b1957",
   "metadata": {},
   "outputs": [],
   "source": [
    "#What is the difference between mutable and immutable types Explain them with examples.\n",
    "\n",
    "\"\"\"In Python, some datatypes are mutable (you can change their content after they have been created) \n",
    "and other are not (you can't change them) For example lists and dictionaries are mutable and tuples\n",
    "and strings are not. For instance, you can't modify a tuple's elements, but you can alter a list's.\"\"\""
   ]
  },
  {
   "cell_type": "code",
   "execution_count": null,
   "id": "6f596fcc-707f-4209-bc6c-9d55fb759957",
   "metadata": {},
   "outputs": [],
   "source": [
    "#What's the major difference between list and tuple in python?\n",
    "\n",
    "\"\"\"Lists are mutable, and are generally used for collections of items that are added and removed. \n",
    "Tuples are used for fixed collections; their elements may not change and hence data integrity is preserved.\"\"\""
   ]
  },
  {
   "cell_type": "code",
   "execution_count": null,
   "id": "dfe6e89a-0b89-4db7-a611-204c88a01bba",
   "metadata": {},
   "outputs": [],
   "source": [
    "#Explain the way in which information is kept in dictionaries.\n",
    "\n",
    "\"\"\"Data in dictionaries is stored as key-value pairs, where key is unique and connected with a value.\n",
    "In this way, fast searching and retrieval based on keys is supported.\"\"\"\n"
   ]
  },
  {
   "cell_type": "code",
   "execution_count": null,
   "id": "f541ee38-5c6c-40f7-b1cc-7730c0dd2f61",
   "metadata": {},
   "outputs": [],
   "source": [
    "When would you want to use a set instead of a list in Python?\n",
    "\n",
    "\"\"\"[Sets[(Sets/Lists: Use a set instead of a list if you need to enforce uniqueness of items and\n",
    "do set operations like intersection, union, or difference.\"\"\""
   ]
  },
  {
   "cell_type": "code",
   "execution_count": null,
   "id": "64551436-efbd-4d1f-81b7-f70fe3ea48e5",
   "metadata": {},
   "outputs": [],
   "source": [
    "#What is a string in Python, what type of object is it, and how does it compare to a list?\n",
    "\n",
    "\"\"\"A string in Python is a sequence of characters, and it is immutable, you cannot change \n",
    "characters in a string directly. On the other hand, a list can hold any type of data and it is mutable.\"\"\""
   ]
  },
  {
   "cell_type": "code",
   "execution_count": null,
   "id": "fd8f76ba-e65d-4173-a322-7bba4017de94",
   "metadata": {},
   "outputs": [],
   "source": [
    "#How does data Integrity maintain in Python by using tuples?\n",
    "\n",
    "\"\"\"Tuples are immutable; thus, data integrity is assured, and the elements can be changed once they are created. \n",
    "This is great for when you need data not to change.\"\"\""
   ]
  },
  {
   "cell_type": "code",
   "execution_count": null,
   "id": "6148cb04-6b48-4679-a2c6-65f7faa8bdbe",
   "metadata": {},
   "outputs": [],
   "source": [
    "#What is a hash table and how does it apply to dictionary in Python?\n",
    "\n",
    "\"\"\"A hash table is a data structure which can map keys to indices by a hash function to obtain\n",
    "the highest frequency of data comparison. In Python, dictionaries are implemented with hash tables\n",
    "for key value storage and lookups.\"\"\""
   ]
  },
  {
   "cell_type": "code",
   "execution_count": null,
   "id": "b33cf583-ad05-44b7-918b-1896c29602ea",
   "metadata": {},
   "outputs": [],
   "source": [
    "#Is it possible to have lists with mixed types in Python?\n",
    "\n",
    "\"\"\"Yes, list's elements can be of mixed types. For instance, you may have a list which contains integers, strings, as well as other lists\"\"\""
   ]
  },
  {
   "cell_type": "code",
   "execution_count": null,
   "id": "654a706c-c775-4eef-9802-ffa762ea0c6b",
   "metadata": {},
   "outputs": [],
   "source": [
    "#Strings are immutable in Python, explain why.\n",
    "\n",
    "\"\"\"In python, strings are immutable for maintaining data integrity and memory efficiency. \n",
    "Immutable objects are more suitable when you want to use them in concurrent context or want to use them for hashing.\"\"\""
   ]
  },
  {
   "cell_type": "code",
   "execution_count": null,
   "id": "1e47e50b-7ae4-4157-90dc-d67a16fde840",
   "metadata": {},
   "outputs": [],
   "source": [
    "#In what ways are dictionaries preferable than lists for some problems?\n",
    "\n",
    "\"\"\"A dictionary is faster at looking up a value for an item since for a \n",
    "list you would have to iterate every element to do so. They are useful in cases \n",
    "where you want to quickly get to related information.\"\"\""
   ]
  },
  {
   "cell_type": "code",
   "execution_count": null,
   "id": "bf8860db-4ba6-4e2c-8f9c-02699e22db4b",
   "metadata": {},
   "outputs": [],
   "source": [
    "#Give an example where use of a tuple is better than a list.\n",
    "\n",
    "\"\"\"Usage of tuples Tuples Your go-to option, if you want to prevent data from being mutated and\n",
    "you don't want to accidentally change elements Somewhere you might use tuples are\n",
    "when you want to ensure data integrity, you are storing constant values — something\n",
    "like coordinates or database records.\"\"\""
   ]
  },
  {
   "cell_type": "code",
   "execution_count": null,
   "id": "ed68ee0d-0901-4c3c-8c14-d68b6429305c",
   "metadata": {},
   "outputs": [],
   "source": [
    "#What's the way to deal with duplicates in sets in Python?\n",
    "\n",
    "\"\"\"The set type does not allow multiple copies of the same value(s) and eliminates duplicates. \n",
    "While inserting an already existing element, the set just ignores the repeated element.\"\"\""
   ]
  },
  {
   "cell_type": "code",
   "execution_count": null,
   "id": "5f33850c-3141-44f8-b538-fa830abd6cdf",
   "metadata": {},
   "outputs": [],
   "source": [
    "#What is the difference between “in” and “is” in python? How does the “in” keyword different when it comes to lists and dictionaries?\n",
    "\n",
    "\"\"\"For lists, we can use the \"in\" keyword, which checks for the appearance of any value in the list.\n",
    "For dictionaries, it looks for the key in the dictionary keys.\"\"\""
   ]
  },
  {
   "cell_type": "code",
   "execution_count": null,
   "id": "2be51342-2296-49ff-b1d9-18c0f71fc181",
   "metadata": {},
   "outputs": [],
   "source": [
    "Can you change a tuple? Explain why or why not.\n",
    "\n",
    "\"\"\"No, you can’t change things in a tuple in Python – they are defined to be immutable. \n",
    "After some structure formed, elements can never be altered, guaranteeing data integrity.\"\"\""
   ]
  },
  {
   "cell_type": "code",
   "execution_count": null,
   "id": "beb78348-bd16-4b44-b18e-0b221d6803e7",
   "metadata": {},
   "outputs": [],
   "source": [
    "#What is a nested dictionary and how to access elements in it?\n",
    "\n",
    "\"\"\"A nested dictionary is a dictionary where the values are perhaps dictionaries themselves.\n",
    "One example of such a use case is that of modelling hierarchical data as a directory tree.\"\"\""
   ]
  },
  {
   "cell_type": "code",
   "execution_count": null,
   "id": "86d45d35-a987-4925-a75a-a5ffbdc3198a",
   "metadata": {},
   "outputs": [],
   "source": [
    "#Explain the time complexity for looking up elements in a dictionary.\n",
    "\n",
    "\"\"\"This also has the best average time complexity of O(1) because of the hash table implementation in Python is quite efficient.\"\"\""
   ]
  },
  {
   "cell_type": "code",
   "execution_count": null,
   "id": "e8454aff-9b25-45fb-8020-f041fb5ab7b6",
   "metadata": {},
   "outputs": [],
   "source": [
    "#When to use [('list')] over {('dict')}?\n",
    "\n",
    "\"\"\"If you need to preserve the order and do not need to index based off of a value, just use the list rather than dict.\"\"\""
   ]
  },
  {
   "cell_type": "code",
   "execution_count": null,
   "id": "3c0cd725-3213-469a-b26f-d6c6e8b3d45b",
   "metadata": {},
   "outputs": [],
   "source": [
    "#Why are dictionaries an ordered collection, and what is the implication of this on lookup times?\n",
    "\n",
    "\"\"\"Dictionaries are mapping types and not ordered, so the order of keys is not guaranteed.\n",
    "The absence of order also means that you cannot use positional indexing to extract your data.\"\"\""
   ]
  },
  {
   "cell_type": "code",
   "execution_count": null,
   "id": "5dac756a-315e-47e6-87b0-342790aff454",
   "metadata": {},
   "outputs": [],
   "source": [
    "#What is the difference between list and dict in data retrieval?\n",
    "\n",
    "\"\"\"Lists get a bunch of items according to an index by direct indexing. In what dictionaries lack\n",
    "is a way to access data according to unique identifiers (keys) rather than ordering.\"\"\""
   ]
  },
  {
   "cell_type": "code",
   "execution_count": null,
   "id": "c193f447-c3e6-4dcb-877c-3119da0e6ef7",
   "metadata": {},
   "outputs": [],
   "source": [
    "#PRACTICAL QUESTION"
   ]
  },
  {
   "cell_type": "code",
   "execution_count": null,
   "id": "29c86cf8-56ee-4281-ba40-af81e9a78b7e",
   "metadata": {},
   "outputs": [],
   "source": [
    "# 1. Create a string with your name and print it\n",
    "name = \"Habibullah\"\n",
    "print(name)"
   ]
  },
  {
   "cell_type": "code",
   "execution_count": null,
   "id": "88d783eb-45e2-4453-b11d-66a0cf2501b2",
   "metadata": {},
   "outputs": [],
   "source": [
    "# 2. Find the length of the string \"Hello World\"\n",
    "s = \"Hello World\"\n",
    "print(len(s))"
   ]
  },
  {
   "cell_type": "code",
   "execution_count": null,
   "id": "ec44abb1-b1e2-4cf4-b8ed-6d933f33dc06",
   "metadata": {},
   "outputs": [],
   "source": [
    "# 3. Slice the first 3 characters from the string \"Python Programming\"\n",
    "text = \"Python Programming\"\n",
    "print(text[:3])"
   ]
  },
  {
   "cell_type": "code",
   "execution_count": null,
   "id": "59947774-695d-4e6b-989a-7a8e18e5176f",
   "metadata": {},
   "outputs": [],
   "source": [
    "# 4. Convert the string \"hello\" to uppercase\n",
    "word = \"hello\"\n",
    "print(word.upper())"
   ]
  },
  {
   "cell_type": "code",
   "execution_count": null,
   "id": "5e7cb235-bcae-416d-ae2e-7e3ae8645f21",
   "metadata": {},
   "outputs": [],
   "source": [
    "# 5. Replace the word \"apple\" with \"orange\" in the string \"I like apple\"\n",
    "sentence = \"I like apple\"\n",
    "print(sentence.replace(\"apple\", \"orange\"))"
   ]
  },
  {
   "cell_type": "code",
   "execution_count": null,
   "id": "52268529-111a-4a02-81b7-33e167443838",
   "metadata": {},
   "outputs": [],
   "source": [
    "# 6. Create a list with numbers 1 to 5 and print it\n",
    "num_list = [1, 2, 3, 4, 5]\n",
    "print(num_list)"
   ]
  },
  {
   "cell_type": "code",
   "execution_count": null,
   "id": "d2a0be10-512c-4a86-a66f-405f5d9868f8",
   "metadata": {},
   "outputs": [],
   "source": [
    "# 7. Append the number 10 to the list [1, 2, 3, 4]\n",
    "lst = [1, 2, 3, 4]\n",
    "lst.append(10)\n",
    "print(lst)"
   ]
  },
  {
   "cell_type": "code",
   "execution_count": 26,
   "id": "abba83ec-b0d7-4c0e-9876-0a4578586775",
   "metadata": {},
   "outputs": [
    {
     "name": "stdout",
     "output_type": "stream",
     "text": [
      "[1, 2, 4, 5]\n"
     ]
    }
   ],
   "source": [
    "# 8. Remove the number 3 from the list [1, 2, 3, 4, 5]\n",
    "lst2 = [1, 2, 3, 4, 5]\n",
    "lst2.remove(3)\n",
    "print(lst2)"
   ]
  },
  {
   "cell_type": "code",
   "execution_count": 25,
   "id": "5d7a7bc1-5840-4d2a-889e-b8c640dda8ac",
   "metadata": {},
   "outputs": [
    {
     "name": "stdout",
     "output_type": "stream",
     "text": [
      "b\n"
     ]
    }
   ],
   "source": [
    "# 9. Access the second element in the list ['a', 'b', 'c', 'd']\n",
    "letters = ['a', 'b', 'c', 'd']\n",
    "print(letters[1])"
   ]
  },
  {
   "cell_type": "code",
   "execution_count": 24,
   "id": "93254188-e1a9-476b-bcf4-3141fe2b671e",
   "metadata": {},
   "outputs": [
    {
     "name": "stdout",
     "output_type": "stream",
     "text": [
      "[50, 40, 30, 20, 10]\n"
     ]
    }
   ],
   "source": [
    "# 10. Reverse the list [10, 20, 30, 40, 50]\n",
    "rev_list = [10, 20, 30, 40, 50]\n",
    "rev_list.reverse()\n",
    "print(rev_list)"
   ]
  },
  {
   "cell_type": "code",
   "execution_count": 23,
   "id": "7a48038c-a1f6-4f92-a993-613301cf5d71",
   "metadata": {},
   "outputs": [
    {
     "name": "stdout",
     "output_type": "stream",
     "text": [
      "(100, 200, 300)\n"
     ]
    }
   ],
   "source": [
    "# 11. Create a tuple with the elements 100, 200, 300 and print it\n",
    "tup = (100, 200, 300)\n",
    "print(tup)"
   ]
  },
  {
   "cell_type": "code",
   "execution_count": 22,
   "id": "f770228c-c6af-4897-a136-237f9902974f",
   "metadata": {},
   "outputs": [
    {
     "name": "stdout",
     "output_type": "stream",
     "text": [
      "blue\n"
     ]
    }
   ],
   "source": [
    "# 12. Access the second-to-last element of the tuple ('red', 'green', 'blue', 'yellow')\n",
    "colors = ('red', 'green', 'blue', 'yellow')\n",
    "print(colors[-2])"
   ]
  },
  {
   "cell_type": "code",
   "execution_count": 21,
   "id": "12eccc78-6ed4-4ae1-9303-949be58791be",
   "metadata": {},
   "outputs": [
    {
     "name": "stdout",
     "output_type": "stream",
     "text": [
      "5\n"
     ]
    }
   ],
   "source": [
    "# 13. Find the minimum number in the tuple (10, 20, 5, 15)\n",
    "nums = (10, 20, 5, 15)\n",
    "print(min(nums))"
   ]
  },
  {
   "cell_type": "code",
   "execution_count": 20,
   "id": "929c8a36-f4b0-4fe7-b493-e8384ec5c283",
   "metadata": {},
   "outputs": [
    {
     "name": "stdout",
     "output_type": "stream",
     "text": [
      "1\n"
     ]
    }
   ],
   "source": [
    "# 14. Find the index of the element \"cat\" in the tuple ('dog', 'cat', 'rabbit')\n",
    "animals = ('dog', 'cat', 'rabbit')\n",
    "print(animals.index('cat'))"
   ]
  },
  {
   "cell_type": "code",
   "execution_count": 19,
   "id": "2b9ea118-473b-43ff-9525-cb1231d57cc7",
   "metadata": {},
   "outputs": [
    {
     "name": "stdout",
     "output_type": "stream",
     "text": [
      "False\n"
     ]
    }
   ],
   "source": [
    "# 15. Create a tuple with three fruits and check if \"kiwi\" is in it\n",
    "fruits = ('apple', 'banana', 'mango')\n",
    "print(\"kiwi\" in fruits)"
   ]
  },
  {
   "cell_type": "code",
   "execution_count": 18,
   "id": "27a27dba-cb66-43b8-93c2-7f5424873641",
   "metadata": {},
   "outputs": [
    {
     "name": "stdout",
     "output_type": "stream",
     "text": [
      "{'a', 'b', 'c'}\n"
     ]
    }
   ],
   "source": [
    "# 16. Create a set with the elements 'a', 'b', 'c' and print it\n",
    "s = {'a', 'b', 'c'}\n",
    "print(s)"
   ]
  },
  {
   "cell_type": "code",
   "execution_count": 17,
   "id": "c927e69e-0eac-4500-9817-97db8b023d83",
   "metadata": {},
   "outputs": [
    {
     "name": "stdout",
     "output_type": "stream",
     "text": [
      "set()\n"
     ]
    }
   ],
   "source": [
    "# 17. Clear all elements from the set {1, 2, 3, 4, 5}\n",
    "s1 = {1, 2, 3, 4, 5}\n",
    "s1.clear()\n",
    "print(s1)"
   ]
  },
  {
   "cell_type": "code",
   "execution_count": 16,
   "id": "d984112b-86bf-4f1f-9fe1-99ce016668b9",
   "metadata": {},
   "outputs": [
    {
     "name": "stdout",
     "output_type": "stream",
     "text": [
      "{1, 2, 3}\n"
     ]
    }
   ],
   "source": [
    "# 18. Remove the element 4 from the set {1, 2, 3, 4}\n",
    "s2 = {1, 2, 3, 4}\n",
    "s2.remove(4)\n",
    "print(s2)"
   ]
  },
  {
   "cell_type": "code",
   "execution_count": 15,
   "id": "6dd4b471-6029-499e-bda5-50dedceea6a9",
   "metadata": {},
   "outputs": [
    {
     "name": "stdout",
     "output_type": "stream",
     "text": [
      "{1, 2, 3, 4, 5}\n"
     ]
    }
   ],
   "source": [
    "# 19. Find the union of two sets {1, 2, 3} and {3, 4, 5}\n",
    "set1 = {1, 2, 3}\n",
    "set2 = {3, 4, 5}\n",
    "print(set1.union(set2))"
   ]
  },
  {
   "cell_type": "code",
   "execution_count": 14,
   "id": "5cf0c224-07e9-4680-aa31-ad084446d939",
   "metadata": {},
   "outputs": [
    {
     "name": "stdout",
     "output_type": "stream",
     "text": [
      "{2, 3}\n"
     ]
    }
   ],
   "source": [
    "# 20. Find the intersection of two sets {1, 2, 3} and {2, 3, 4}\n",
    "set1 = {1, 2, 3}\n",
    "set2 = {2, 3, 4}\n",
    "print(set1.intersection(set2))"
   ]
  },
  {
   "cell_type": "code",
   "execution_count": 11,
   "id": "6c130697-b3ac-4e0c-828d-8ba324b5749d",
   "metadata": {},
   "outputs": [
    {
     "name": "stdout",
     "output_type": "stream",
     "text": [
      "{'name': 'Alice', 'age': 30, 'city': 'Delhi'}\n"
     ]
    }
   ],
   "source": [
    "# 21. Create a dictionary with the keys \"name\", \"age\", and \"city\", and print it\n",
    "person = {\"name\": \"Alice\", \"age\": 30, \"city\": \"Delhi\"}\n",
    "print(person)"
   ]
  },
  {
   "cell_type": "code",
   "execution_count": 10,
   "id": "cb793a4c-d4ef-4294-ad06-6bb2f263494f",
   "metadata": {},
   "outputs": [
    {
     "name": "stdout",
     "output_type": "stream",
     "text": [
      "{'name': 'John', 'age': 25, 'country': 'USA'}\n"
     ]
    }
   ],
   "source": [
    "# 22. Add a new key-value pair \"country\": \"USA\" to the dictionary {'name': 'John', 'age': 25}\n",
    "person2 = {'name': 'John', 'age': 25}\n",
    "person2['country'] = 'USA'\n",
    "print(person2)"
   ]
  },
  {
   "cell_type": "code",
   "execution_count": 9,
   "id": "57ff6d01-7c36-4427-89f2-7fa4c5ab72a7",
   "metadata": {},
   "outputs": [
    {
     "name": "stdout",
     "output_type": "stream",
     "text": [
      "Alice\n"
     ]
    }
   ],
   "source": [
    "# 23. Access the value associated with the key \"name\" in the dictionary {'name': 'Alice', 'age': 30}\n",
    "person3 = {'name': 'Alice', 'age': 30}\n",
    "print(person3['name'])"
   ]
  },
  {
   "cell_type": "code",
   "execution_count": 8,
   "id": "a923cfaf-8835-4202-8757-5bc4a1f2a36e",
   "metadata": {},
   "outputs": [
    {
     "name": "stdout",
     "output_type": "stream",
     "text": [
      "{'name': 'Bob', 'city': 'New York'}\n"
     ]
    }
   ],
   "source": [
    "# 24. Remove the key \"age\" from the dictionary {'name': 'Bob', 'age': 22, 'city': 'New York'}\n",
    "person4 = {'name': 'Bob', 'age': 22, 'city': 'New York'}\n",
    "del person4['age']\n",
    "print(person4)"
   ]
  },
  {
   "cell_type": "code",
   "execution_count": 7,
   "id": "eaea4f2a-ca16-4e74-8c5f-9d91f11ff95d",
   "metadata": {},
   "outputs": [
    {
     "name": "stdout",
     "output_type": "stream",
     "text": [
      "True\n"
     ]
    }
   ],
   "source": [
    "# 25. Check if the key \"city\" exists in the dictionary {'name': 'Alice', 'city': 'Paris'}\n",
    "person5 = {'name': 'Alice', 'city': 'Paris'}\n",
    "print(\"city\" in person5)"
   ]
  },
  {
   "cell_type": "code",
   "execution_count": 6,
   "id": "2266205d-923c-4356-9a7f-123230eb313e",
   "metadata": {},
   "outputs": [
    {
     "name": "stdout",
     "output_type": "stream",
     "text": [
      "[1, 2, 3] (4, 5, 6) {'a': 1, 'b': 2}\n"
     ]
    }
   ],
   "source": [
    "# 26. Create a list, a tuple, and a dictionary, and print them all\n",
    "my_list = [1, 2, 3]\n",
    "my_tuple = (4, 5, 6)\n",
    "my_dict = {'a': 1, 'b': 2}\n",
    "print(my_list, my_tuple, my_dict)"
   ]
  },
  {
   "cell_type": "code",
   "execution_count": 5,
   "id": "8dc702cb-f2e1-434d-8137-264e870f32fc",
   "metadata": {},
   "outputs": [
    {
     "name": "stdout",
     "output_type": "stream",
     "text": [
      "[23, 70, 84, 88, 98]\n"
     ]
    }
   ],
   "source": [
    "# 27. Create a list of 5 random numbers between 1 and 100, sort it, and print\n",
    "import random\n",
    "rand_list = random.sample(range(1, 101), 5)\n",
    "rand_list.sort()\n",
    "print(rand_list)"
   ]
  },
  {
   "cell_type": "code",
   "execution_count": 4,
   "id": "5f772a69-3c0b-4002-abd6-ecc6c5680d96",
   "metadata": {},
   "outputs": [
    {
     "name": "stdout",
     "output_type": "stream",
     "text": [
      "four\n"
     ]
    }
   ],
   "source": [
    "# 28. Create a list with strings and print the element at the third index\n",
    "str_list = ['one', 'two', 'three', 'four', 'five']\n",
    "print(str_list[3])"
   ]
  },
  {
   "cell_type": "code",
   "execution_count": 3,
   "id": "d1a93a2d-989c-40c3-8fe4-6222b465fc27",
   "metadata": {},
   "outputs": [
    {
     "name": "stdout",
     "output_type": "stream",
     "text": [
      "{'a': 1, 'b': 2, 'c': 3, 'd': 4}\n"
     ]
    }
   ],
   "source": [
    "# 29. Combine two dictionaries into one and print the result\n",
    "dict1 = {'a': 1, 'b': 2}\n",
    "dict2 = {'c': 3, 'd': 4}\n",
    "combined = {**dict1, **dict2}\n",
    "print(combined)"
   ]
  },
  {
   "cell_type": "code",
   "execution_count": 2,
   "id": "4aed6754-89d4-4b30-ac0a-9020dce064c1",
   "metadata": {},
   "outputs": [
    {
     "name": "stdout",
     "output_type": "stream",
     "text": [
      "{'banana', 'apple', 'orange'}\n"
     ]
    }
   ],
   "source": [
    "# 30. Convert a list of strings into a set\n",
    "string_list = ['apple', 'banana', 'apple', 'orange']\n",
    "string_set = set(string_list)\n",
    "print(string_set)"
   ]
  },
  {
   "cell_type": "code",
   "execution_count": null,
   "id": "d8caf428-dec1-4b11-a741-1ae884b323eb",
   "metadata": {},
   "outputs": [],
   "source": []
  }
 ],
 "metadata": {
  "kernelspec": {
   "display_name": "Python 3 (ipykernel)",
   "language": "python",
   "name": "python3"
  },
  "language_info": {
   "codemirror_mode": {
    "name": "ipython",
    "version": 3
   },
   "file_extension": ".py",
   "mimetype": "text/x-python",
   "name": "python",
   "nbconvert_exporter": "python",
   "pygments_lexer": "ipython3",
   "version": "3.13.5"
  }
 },
 "nbformat": 4,
 "nbformat_minor": 5
}
